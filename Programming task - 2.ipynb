{
 "cells": [
  {
   "cell_type": "markdown",
   "id": "caeb797c",
   "metadata": {},
   "source": [
    "Q1 \n",
    "Let's learn about list comprehensions! You are given three integers x,y and z representing the dimensions of a cuboid along with an integer n . Print a list of all possible coordinates given by (i,j,k) on a 3D grid where the sum of i+j+k is not equal to n . Here,0<=i<=x; 0<=j<=y; 0<=k<=z. Please use list comprehensions rather than multiple loops, as a learning exercise."
   ]
  },
  {
   "cell_type": "code",
   "execution_count": 10,
   "id": "12509685",
   "metadata": {},
   "outputs": [
    {
     "name": "stdout",
     "output_type": "stream",
     "text": [
      "1\n",
      "1\n",
      "2\n",
      "3\n",
      "[[0, 0, 0], [0, 0, 1], [0, 0, 2], [0, 1, 0], [0, 1, 1], [1, 0, 0], [1, 0, 1], [1, 1, 0], [1, 1, 2]]\n"
     ]
    }
   ],
   "source": [
    "if __name__ == '__main__':\n",
    "    x = int(input())\n",
    "    y = int(input())\n",
    "    z = int(input())\n",
    "    n = int(input())\n",
    "    coordinates = [[i, j, k] for i in range(x+1) for j in range(y+1) for k in range(z+1) if i+j+k != n]\n",
    "print(list(coordinates))"
   ]
  },
  {
   "cell_type": "markdown",
   "id": "e83e20ae",
   "metadata": {},
   "source": [
    "Q2 Given the participants' score sheet for your University Sports Day, you are required to find the runner-up score.\n",
    "You are given n scores.Store them in a list and find the score of the runner-up.\n",
    "Input Format\n",
    "The first line contains n. The second line contains an array A[] of n integers each separated by a space."
   ]
  },
  {
   "cell_type": "code",
   "execution_count": 21,
   "id": "fb986f1f",
   "metadata": {},
   "outputs": [
    {
     "name": "stdout",
     "output_type": "stream",
     "text": [
      "5\n",
      "2 3 6 6 5\n",
      "5\n"
     ]
    }
   ],
   "source": [
    "n = int(input())\n",
    "arr1 = map(int, input().split())\n",
    "arr2 = list(set(arr1))\n",
    "arr2.sort()\n",
    "print(arr2[-2])"
   ]
  },
  {
   "cell_type": "markdown",
   "id": "56e9673e",
   "metadata": {},
   "source": [
    "Q3.Given the names and grades for each student in a class of N  students, store them in a nested list and print the name(s) of any student(s) having the second lowest grade.\n",
    "\n",
    "Note: If there are multiple students with the second lowest grade, order their names alphabetically and print each name on a new line."
   ]
  },
  {
   "cell_type": "code",
   "execution_count": 23,
   "id": "cd88cef2",
   "metadata": {},
   "outputs": [
    {
     "name": "stdout",
     "output_type": "stream",
     "text": [
      "5\n",
      "harry\n",
      "37.2\n",
      "richa\n",
      "37.2\n",
      "hena\n",
      "98.3\n",
      "akriti\n",
      "32\n",
      "harsh\n",
      "39\n",
      "harry\n",
      "richa\n"
     ]
    }
   ],
   "source": [
    "grade=[]\n",
    "for i in range(int(input())):   \n",
    "    name = input()\n",
    "    score = float(input())\n",
    "    grade.append([name,score])\n",
    "    sorted_score=sorted(list(set([i[1] for i in grade])))\n",
    "\n",
    "second_low=sorted_score[1]\n",
    "        \n",
    "lower_student=[]\n",
    "for element in grade:\n",
    "    if second_low ==element[1]:\n",
    "        lower_student.append(element)\n",
    "        \n",
    "for student in sorted(lower_student):\n",
    "    print(student[0])"
   ]
  },
  {
   "cell_type": "markdown",
   "id": "db428049",
   "metadata": {},
   "source": [
    "Q4. The provided code stub will read in a dictionary containing key/value pairs of name:marks for a list of students. Print the average of the marks array for the student name provided, showing 2 places after the decimal."
   ]
  },
  {
   "cell_type": "code",
   "execution_count": 25,
   "id": "a7f54bcc",
   "metadata": {},
   "outputs": [
    {
     "name": "stdout",
     "output_type": "stream",
     "text": [
      "3\n",
      "richa 34 56 78\n",
      "riya 45 56 78\n",
      "sumu 34 23 45\n",
      "sumu\n",
      "34.00\n"
     ]
    }
   ],
   "source": [
    "n = int(input())\n",
    "student_marks = {}\n",
    "for _ in range(n):\n",
    "    name, *line = input().split()\n",
    "    scores = list(map(float, line))\n",
    "    student_marks[name] = scores\n",
    "\n",
    "total_marks=0\n",
    "query_name = input()\n",
    "for i in student_marks[query_name]:\n",
    "        total_marks=total_marks+i\n",
    "average = total_marks / len(student_marks[query_name])\n",
    "print(\"%.2f\"%average)"
   ]
  },
  {
   "cell_type": "markdown",
   "id": "8f4a9d96",
   "metadata": {},
   "source": [
    "Given an integer,n , n and  space-separated integers as input, create a tuple, , of those  integers. Then compute and print the result of hash(t) .\n",
    "\n",
    "Note: hash() is one of the functions in the __builtins__ module, so it need not be imported."
   ]
  },
  {
   "cell_type": "code",
   "execution_count": 29,
   "id": "ee213524",
   "metadata": {},
   "outputs": [
    {
     "name": "stdout",
     "output_type": "stream",
     "text": [
      "2\n",
      "1 2\n",
      "-3550055125485641917\n"
     ]
    }
   ],
   "source": [
    "n = int(input())\n",
    "list1 = map(int, input().split())\n",
    "t=tuple(list1)\n",
    "print(hash(t))"
   ]
  },
  {
   "cell_type": "markdown",
   "id": "0f3de1eb",
   "metadata": {},
   "source": [
    "A set is an unordered collection of elements without duplicate entries.\n",
    "When printed, iterated or converted into a sequence, its elements will appear in an arbitrary order.\n",
    "\n",
    "Task\n",
    "Now, let's use our knowledge of sets and help Mickey.\n",
    "Ms. Gabriel Williams is a botany professor at District College. One day, she asked her student Mickey to compute the average of all the plants with distinct heights in her greenhouse."
   ]
  },
  {
   "cell_type": "code",
   "execution_count": 30,
   "id": "b1eb3254",
   "metadata": {},
   "outputs": [
    {
     "data": {
      "text/plain": [
       "3.0"
      ]
     },
     "execution_count": 30,
     "metadata": {},
     "output_type": "execute_result"
    }
   ],
   "source": [
    "def average(array):\n",
    "    \n",
    "    val=0\n",
    "    for i in set(array):\n",
    "        val=val+i\n",
    "    \n",
    "    Average= val/len(set(array))\n",
    "    return Average\n",
    "lst=[1,2,3,4,5,5,5,5]\n",
    "average(lst)"
   ]
  },
  {
   "cell_type": "markdown",
   "id": "34aee9ad",
   "metadata": {},
   "source": [
    "If the inputs are given on one line separated by a character (the delimiter), use split() to get the separate values in the form of a list. The delimiter is space (ascii 32) by default. To specify that comma is the delimiter, use string.split(','). For this challenge, and in general on HackerRank, space will be the delimiter.\n",
    "\n",
    "Task:\n",
    "Given2 sets of integers, M and N, print their symmetric difference in ascending order. The term symmetric difference indicates those values that exist in either M or N but do not exist in both."
   ]
  },
  {
   "cell_type": "code",
   "execution_count": null,
   "id": "0ab263db",
   "metadata": {},
   "outputs": [],
   "source": [
    "m=int(input())\n",
    "a=set(map(int,input().split()))\n",
    "n=int(input())\n",
    "b=set(map(int,input().split()))\n",
    "a1=a.difference(b)\n",
    "b1=b.difference(a)\n",
    "output=a1.union(b1)\n",
    "\n",
    "for i in sorted(list(output)):\n",
    "    print(i)"
   ]
  },
  {
   "cell_type": "markdown",
   "id": "006db0cf",
   "metadata": {},
   "source": [
    "There is an array of n integers. There are also 2 disjoint sets, A and dislike all the integers in set B. Your initial happiness is 0. For each i integer in the array, if i E A, you add 1 to your happiness. If i E B you add -1 to your happiness. Otherwise, your happiness does not\n",
    "\n",
    "change. Output your final happiness at the end.\n",
    "\n",
    "Note: Since A and B are sets, they have no repeated elements.\n",
    "\n",
    "However, the array might contain duplicate elements.\n",
    "\n",
    "Constraints\n",
    "\n",
    "1≤ n ≤ 105\n",
    "\n",
    "15 m≤ 10\n",
    "\n",
    "1 Any integer in the input ≤ 10°\n",
    "\n",
    "Input Format\n",
    "\n",
    "The first line contains integers n and m separated by a space."
   ]
  },
  {
   "cell_type": "code",
   "execution_count": null,
   "id": "0a6cf9a6",
   "metadata": {},
   "outputs": [],
   "source": [
    "happiness=0\n",
    "n,m= map(int,input().split())\n",
    "arr=list(map(int,input().split()))\n",
    "good=set(map(int,input().split()))\n",
    "bad=set(map(int,input().split()))\n",
    "\n",
    "for i in arr:\n",
    "    if i in good:\n",
    "        happiness=happiness+1\n",
    "    elif i in bad:\n",
    "        happiness=happiness-1\n",
    "        \n",
    "print(\"happiness: \",happiness)"
   ]
  },
  {
   "cell_type": "markdown",
   "id": "eb4aa025",
   "metadata": {},
   "source": [
    "Task\n",
    "\n",
    "Apply your knowledge of the .add() operation to help your friend Rupal.\n",
    "\n",
    "Rupal has a huge collection of country stamps. She decided to count the total number of distinct country stamps in her collection. She asked for your help. You pick the stamps one by one from a stack of N country stamps.\n",
    "\n",
    "Find the total number of distinct country stamps.\n",
    "\n",
    "Input Format\n",
    "\n",
    "The first line contains an integer N, the total number of country stamps. The next N lines contains the name of the country where the stamp is from.\n",
    "\n",
    "Constraints\n",
    "\n",
    "0 < N < 1000"
   ]
  },
  {
   "cell_type": "code",
   "execution_count": 1,
   "id": "b5d7b6dd",
   "metadata": {
    "scrolled": true
   },
   "outputs": [
    {
     "name": "stdout",
     "output_type": "stream",
     "text": [
      "7\n",
      "Uk\n",
      "usa\n",
      "china\n",
      "france\n",
      "nepal\n",
      "uk\n",
      "france\n",
      "6\n"
     ]
    }
   ],
   "source": [
    "number_of_country=int(input())\n",
    "countries=set()\n",
    "for i in range(number_of_country):\n",
    "    countries.add(input())\n",
    "    \n",
    "print(len(countries))"
   ]
  },
  {
   "cell_type": "markdown",
   "id": "3c1c37fe",
   "metadata": {},
   "source": [
    "Task\n",
    "\n",
    "You have a non-empty sets, and you have to execute N commands given in N lines.\n",
    "\n",
    "The commands will be pop, remove and discard.\n",
    "\n",
    "Input Format\n",
    "\n",
    "The first line contains integer n, the number of elements in the set 8.\n",
    "\n",
    "The second line contains n space separated elements of sets. All of the elements are\n",
    "\n",
    "non-negative integers, less than or equal to 9. The third line contains integer N, the number of commands. The next N lines contains either pop, remove and/or discard commands followed by their associated value.\n",
    "\n",
    "Constraints\n",
    "\n",
    "0 <n< 20\n",
    "\n",
    "0 <N <20"
   ]
  },
  {
   "cell_type": "code",
   "execution_count": 2,
   "id": "5633f509",
   "metadata": {},
   "outputs": [
    {
     "name": "stdout",
     "output_type": "stream",
     "text": [
      "9\n",
      "1 2 3 4 5 6 7 8 9\n",
      "10\n",
      "pop\n",
      "remove 9\n",
      "discard 9\n",
      "discard 8\n",
      "remove 7\n",
      "pop\n",
      "discard 6\n",
      "remove 5\n",
      "pop\n",
      "discard 5\n",
      "4\n"
     ]
    }
   ],
   "source": [
    "n = int(input())\n",
    "s = set(map(int,input().split()))\n",
    "num = int(input())\n",
    "for i in range(num):\n",
    "    ip = input().split()\n",
    "    if ip[0]==\"remove\":\n",
    "        s.remove(int(ip[1]))\n",
    "    elif ip[0]==\"discard\":\n",
    "        s.discard(int(ip[1]))\n",
    "    else :\n",
    "        s.pop()\n",
    "print(sum(list(s)))"
   ]
  },
  {
   "cell_type": "markdown",
   "id": "04c089d4",
   "metadata": {},
   "source": [
    "The students of District College have subscriptions to English and French newspapers. Some students have subscribed only to English, some have subscribed to only French and some have subscribed to both newspapers.\n",
    "\n",
    "You are given two sets of student roll numbers. One set has subscribed to the English newspaper, and the other set is subscribed to the French newspaper. The same student could be in both sets. Your task is to find the total number of students who have subscribed to at least one newspaper."
   ]
  },
  {
   "cell_type": "code",
   "execution_count": 3,
   "id": "7684b316",
   "metadata": {},
   "outputs": [
    {
     "name": "stdout",
     "output_type": "stream",
     "text": [
      "9\n",
      "1 2 3 4 5 6 7 8 9\n",
      "9\n",
      "10 1 2 3 11 21 55 6 8\n",
      "13\n"
     ]
    }
   ],
   "source": [
    "n=int(input())\n",
    "a=set(map(int,input().split()))\n",
    "n1=int(input())\n",
    "b=set(map(int,input().split()))\n",
    "\n",
    "c=a.union(b)\n",
    "print(len(c))"
   ]
  },
  {
   "cell_type": "markdown",
   "id": "e8cf46f9",
   "metadata": {},
   "source": [
    "The students of District College have subscriptions to English and French newspapers. Some students have subscribed only to English, some have subscribed only to French, and some have subscribed to both newspapers.\n",
    "\n",
    "You are given two sets of student roll numbers. One set has subscribed to the English newspaper, one set has subscribed to the French newspaper. Your task is to find the total number of students who have subscribed to both newspapers."
   ]
  },
  {
   "cell_type": "code",
   "execution_count": 4,
   "id": "c124678c",
   "metadata": {},
   "outputs": [
    {
     "name": "stdout",
     "output_type": "stream",
     "text": [
      "9\n",
      "1 2 3 4 5 6 7 8 9\n",
      "9\n",
      "10 1 2 3 11 21 55 6 8\n",
      "5\n"
     ]
    }
   ],
   "source": [
    "n=int(input())\n",
    "a=set(map(int,input().split()))\n",
    "n1=int(input())\n",
    "b=set(map(int,input().split()))\n",
    "\n",
    "c=a.intersection(b)\n",
    "print(len(c))"
   ]
  },
  {
   "cell_type": "markdown",
   "id": "95ba5215",
   "metadata": {},
   "source": [
    "Students of District College have a subscription to English and French newspapers. Some students have subscribed to only the English newspaper, some have subscribed to only the French newspaper, and some have subscribed to both newspapers.\n",
    "\n",
    "You are given two sets of student roll numbers. One set has subscribed to the English newspaper, and one set has subscribed to the French newspaper. Your task is to find the total number of students who have subscribed to only English newspapers."
   ]
  },
  {
   "cell_type": "code",
   "execution_count": 5,
   "id": "cfe3592d",
   "metadata": {},
   "outputs": [
    {
     "name": "stdout",
     "output_type": "stream",
     "text": [
      "9\n",
      "1 2 3 4 5 6 7 8 9\n",
      "9\n",
      "10 1 2 3 11 21 55 6 8\n",
      "4\n"
     ]
    }
   ],
   "source": [
    "n=int(input())\n",
    "a=set(map(int,input().split()))\n",
    "n1=int(input())\n",
    "b=set(map(int,input().split()))\n",
    "\n",
    "c=a.difference(b)\n",
    "print(len(c))"
   ]
  },
  {
   "cell_type": "markdown",
   "id": "abd14222",
   "metadata": {},
   "source": [
    "Students of District College have subscriptions to English and French newspapers. Some students have subscribed to English only, some have subscribed to French only, and some have subscribed to both newspapers.\n",
    "\n",
    "You are given two sets of student roll numbers. One set has subscribed to the English newspaper, and one set has subscribed to the French newspaper. Your task is to find the total number of students who have subscribed to either the English or the French newspaper but not both."
   ]
  },
  {
   "cell_type": "code",
   "execution_count": 1,
   "id": "9199bfd3",
   "metadata": {},
   "outputs": [
    {
     "name": "stdout",
     "output_type": "stream",
     "text": [
      "9\n",
      "1 2 3 4 5 6 7 8 9\n",
      "9\n",
      "10 1 2 3 11 21 55 6 8\n",
      "8\n"
     ]
    }
   ],
   "source": [
    "n=int(input())\n",
    "a=set(map(int,input().split()))\n",
    "n1=int(input())\n",
    "b=set(map(int,input().split()))\n",
    "\n",
    "c=a.symmetric_difference(b)\n",
    "print(len(c))"
   ]
  },
  {
   "cell_type": "markdown",
   "id": "228eaf57",
   "metadata": {},
   "source": [
    "You are given two sets, A and B.\n",
    "\n",
    "Your job is to find whether set A is a subset of set B.\n",
    "\n",
    "Problem\n",
    "\n",
    "If set A is subset of set B, print True. If set A is not a subset of set B, print False.\n",
    "\n",
    "Input Format\n",
    "\n",
    "The first line will contain the number of test cases, T.\n",
    "\n",
    "The first line of each test case contains the number of elements in set A. The second line of each test case contains the space separated elements of set A.\n",
    "\n",
    "Submissions\n",
    "\n",
    "Leaderboard\n",
    "\n",
    "The third line of each test case contains the number of elements in set B. The fourth line of each test case contains the space separated elements of set B.\n",
    "\n",
    "Constraints\n",
    "\n",
    ".0 <T<21\n",
    "\n",
    ".0< Number of elements in each set < 1001\n",
    "\n",
    "Output Format\n",
    "\n",
    "Output True or False for each test case on separate lines."
   ]
  },
  {
   "cell_type": "code",
   "execution_count": null,
   "id": "4f5c015b",
   "metadata": {
    "scrolled": true
   },
   "outputs": [],
   "source": [
    "if __name__ == '__main__':\n",
    "    t = int(input())\n",
    "\n",
    "    for i in range(t):\n",
    "        # read in sets A and B\n",
    "        a_size = int(input())\n",
    "        A = set(map(int, input().split()))\n",
    "        b_size = int(input())\n",
    "        B = set(map(int, input().split()))\n",
    "\n",
    "        # check if A is a subset of B\n",
    "        if A.issubset(B):\n",
    "            print(True)\n",
    "        else:\n",
    "            print(False)\n"
   ]
  },
  {
   "cell_type": "code",
   "execution_count": null,
   "id": "60215683",
   "metadata": {},
   "outputs": [],
   "source": []
  }
 ],
 "metadata": {
  "kernelspec": {
   "display_name": "Python 3 (ipykernel)",
   "language": "python",
   "name": "python3"
  },
  "language_info": {
   "codemirror_mode": {
    "name": "ipython",
    "version": 3
   },
   "file_extension": ".py",
   "mimetype": "text/x-python",
   "name": "python",
   "nbconvert_exporter": "python",
   "pygments_lexer": "ipython3",
   "version": "3.9.12"
  }
 },
 "nbformat": 4,
 "nbformat_minor": 5
}
