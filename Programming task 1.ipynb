{
 "cells": [
  {
   "cell_type": "code",
   "execution_count": 1,
   "id": "85abc511",
   "metadata": {},
   "outputs": [
    {
     "name": "stdout",
     "output_type": "stream",
     "text": [
      "Hello, World!\n"
     ]
    }
   ],
   "source": [
    "#Q1\n",
    "print(\"Hello, World!\")"
   ]
  },
  {
   "cell_type": "raw",
   "id": "67cc79d7",
   "metadata": {},
   "source": [
    "Q2 Given an integer, , perform the following conditional actions:\n",
    "If n is odd, print Weird\n",
    "If n is even and in the inclusive range of 2to5, print Not Weird\n",
    "If n is even and in the inclusive range of 6to20 , print Weird\n",
    "If n is even and greater than 20 , print Not Weird"
   ]
  },
  {
   "cell_type": "code",
   "execution_count": 10,
   "id": "babd2222",
   "metadata": {},
   "outputs": [
    {
     "name": "stdout",
     "output_type": "stream",
     "text": [
      "24\n",
      "Not Weird\n"
     ]
    }
   ],
   "source": [
    "n=eval(input())\n",
    "if n%2!=0:\n",
    "    print('Weird')\n",
    "elif n%2==0 and 2<=n<=5:\n",
    "    print('Not Weird')\n",
    "elif n%2==0 and 6<=n<=20:\n",
    "    print('Weird')    \n",
    "elif n%2==0 and n>20:\n",
    "    print('Not Weird')       "
   ]
  },
  {
   "cell_type": "raw",
   "id": "2f26d3d4",
   "metadata": {},
   "source": [
    "Q3 The provided code stub reads two integers from STDIN, a and b.Add code to print three lines where:\n",
    "\n",
    "The first line contains the sum of the two numbers.\n",
    "The second line contains the difference of the two numbers (first - second).\n",
    "The third line contains the product of the two numbers.\n"
   ]
  },
  {
   "cell_type": "code",
   "execution_count": 14,
   "id": "a749664f",
   "metadata": {},
   "outputs": [
    {
     "name": "stdout",
     "output_type": "stream",
     "text": [
      "5\n",
      "3\n",
      "8\n",
      "2\n",
      "15\n"
     ]
    }
   ],
   "source": [
    "a=eval(input())\n",
    "b=eval(input())\n",
    "s=a+b\n",
    "diff=a-b\n",
    "m=a*b\n",
    "print(s)\n",
    "print(diff)\n",
    "print(m)"
   ]
  },
  {
   "cell_type": "raw",
   "id": "59afd2c8",
   "metadata": {},
   "source": [
    "Q4 The provided code stub reads two integers,a and b , from STDIN.\n",
    "\n",
    "Add logic to print two lines. The first line should contain the result of integer division, a //b.\n",
    "The second line should contain the result of float division, a / b."
   ]
  },
  {
   "cell_type": "code",
   "execution_count": 16,
   "id": "b6877a8d",
   "metadata": {},
   "outputs": [
    {
     "name": "stdout",
     "output_type": "stream",
     "text": [
      "3\n",
      "5\n",
      "0\n",
      "0.6\n"
     ]
    }
   ],
   "source": [
    "if __name__ == '__main__':\n",
    "    a = int(input())\n",
    "    b = int(input())\n",
    "    d=a//b\n",
    "    f=a/b\n",
    "    print(d)\n",
    "    print(f)   "
   ]
  },
  {
   "cell_type": "code",
   "execution_count": null,
   "id": "d62ee8b4",
   "metadata": {},
   "outputs": [],
   "source": [
    "Q5 The provided code stub reads and integer,n, from STDIN. For all non-negative integers i<n , print.i^2"
   ]
  },
  {
   "cell_type": "code",
   "execution_count": 17,
   "id": "3d75836c",
   "metadata": {},
   "outputs": [
    {
     "name": "stdout",
     "output_type": "stream",
     "text": [
      "3\n",
      "0\n",
      "1\n",
      "4\n"
     ]
    }
   ],
   "source": [
    "if __name__ == '__main__':\n",
    "    n = int(input())\n",
    "    for i in range(0,n):\n",
    "        print(i**2)"
   ]
  },
  {
   "cell_type": "code",
   "execution_count": null,
   "id": "fd934f0a",
   "metadata": {},
   "outputs": [],
   "source": [
    "Q6 Given a year, determine whether it is a leap year. \n",
    "If it is a leap year, return the Boolean True, otherwise return False.\n",
    "\n",
    "Note that the code stub provided reads from STDIN and passes arguments to the is_leap function.\n",
    "It is only necessary to complete the is_leap function."
   ]
  },
  {
   "cell_type": "code",
   "execution_count": 26,
   "id": "4936a3ec",
   "metadata": {},
   "outputs": [
    {
     "name": "stdout",
     "output_type": "stream",
     "text": [
      "1900\n",
      "False\n"
     ]
    }
   ],
   "source": [
    "def is_leap(year):\n",
    "    if year % 4 == 0 and (year % 100 != 0 or year % 400 == 0):\n",
    "        return True\n",
    "    else:\n",
    "        return False\n",
    " year = int(input())\n",
    "print(is_leap(year))"
   ]
  },
  {
   "cell_type": "raw",
   "id": "82815c2b",
   "metadata": {},
   "source": [
    "Q7 The included code stub will read an integer,n , from STDIN.\n",
    "Without using any string methods, try to print the following:\n",
    "123...n\n",
    "Print the list of integers from 1 through n as a string, without spaces."
   ]
  },
  {
   "cell_type": "code",
   "execution_count": 33,
   "id": "cb420d49",
   "metadata": {},
   "outputs": [
    {
     "name": "stdout",
     "output_type": "stream",
     "text": [
      "3\n",
      "123"
     ]
    }
   ],
   "source": [
    "if __name__ == '__main__':\n",
    "    n = int(input())\n",
    "    for i in range(1,n+1):\n",
    "       print(i,end=\"\")"
   ]
  },
  {
   "cell_type": "code",
   "execution_count": null,
   "id": "f5acb159",
   "metadata": {},
   "outputs": [],
   "source": []
  }
 ],
 "metadata": {
  "kernelspec": {
   "display_name": "Python 3 (ipykernel)",
   "language": "python",
   "name": "python3"
  },
  "language_info": {
   "codemirror_mode": {
    "name": "ipython",
    "version": 3
   },
   "file_extension": ".py",
   "mimetype": "text/x-python",
   "name": "python",
   "nbconvert_exporter": "python",
   "pygments_lexer": "ipython3",
   "version": "3.9.12"
  }
 },
 "nbformat": 4,
 "nbformat_minor": 5
}
