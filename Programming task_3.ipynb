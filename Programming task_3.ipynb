{
 "cells": [
  {
   "cell_type": "markdown",
   "id": "790a1380",
   "metadata": {},
   "source": [
    "Find angle FBC"
   ]
  },
  {
   "cell_type": "code",
   "execution_count": 3,
   "id": "33f1b3fd",
   "metadata": {},
   "outputs": [
    {
     "name": "stdout",
     "output_type": "stream",
     "text": [
      "10\n",
      "10\n",
      "45°\n"
     ]
    }
   ],
   "source": [
    "from math import degrees, atan2\n",
    "\n",
    "AB = float(input())\n",
    "BC = float(input())\n",
    "\n",
    "MBC = round(degrees(atan2(AB, BC)))\n",
    "print((str(MBC)), chr(176), sep='')"
   ]
  },
  {
   "cell_type": "markdown",
   "id": "65abf815",
   "metadata": {},
   "source": [
    "Triangle Quest 2"
   ]
  },
  {
   "cell_type": "code",
   "execution_count": 4,
   "id": "db033ee0",
   "metadata": {},
   "outputs": [
    {
     "name": "stdout",
     "output_type": "stream",
     "text": [
      "5\n",
      "1\n",
      "121\n",
      "12321\n",
      "1234321\n",
      "123454321\n"
     ]
    }
   ],
   "source": [
    "for i in range(1,int(input())+1):\n",
    "    print (((10**i - 1)//9)**2)"
   ]
  },
  {
   "cell_type": "markdown",
   "id": "ead649c7",
   "metadata": {},
   "source": [
    "Mod Divmod"
   ]
  },
  {
   "cell_type": "code",
   "execution_count": 5,
   "id": "9cd54051",
   "metadata": {},
   "outputs": [
    {
     "name": "stdout",
     "output_type": "stream",
     "text": [
      "177\n",
      "10\n",
      "17\n",
      "7\n",
      "(17, 7)\n"
     ]
    }
   ],
   "source": [
    "a = int(input())\n",
    "b = int(input())\n",
    "print(a//b)\n",
    "print(a%b)\n",
    "print(divmod(a,b))"
   ]
  },
  {
   "cell_type": "markdown",
   "id": "e9d4c02b",
   "metadata": {},
   "source": [
    "Power - Mod Power"
   ]
  },
  {
   "cell_type": "code",
   "execution_count": 6,
   "id": "e305af2b",
   "metadata": {},
   "outputs": [
    {
     "name": "stdout",
     "output_type": "stream",
     "text": [
      "3\n",
      "4\n",
      "5\n",
      "81\n",
      "1\n"
     ]
    }
   ],
   "source": [
    "a=int(input())\n",
    "b=int(input())\n",
    "m=int(input())\n",
    "d=pow(a,b,m)\n",
    "print(pow(a,b))\n",
    "print(d)"
   ]
  },
  {
   "cell_type": "markdown",
   "id": "b38a751e",
   "metadata": {},
   "source": [
    "Integers Come In All Sizes"
   ]
  },
  {
   "cell_type": "code",
   "execution_count": 7,
   "id": "ac9d6c0c",
   "metadata": {},
   "outputs": [
    {
     "name": "stdout",
     "output_type": "stream",
     "text": [
      "9\n",
      "29\n",
      "7\n",
      "27\n",
      "4710194409608608369201743232\n"
     ]
    }
   ],
   "source": [
    "a=int(input())\n",
    "b=int(input())\n",
    "c=int(input())\n",
    "d=int(input())\n",
    "\n",
    "print((a**b)+(c**d))"
   ]
  },
  {
   "cell_type": "markdown",
   "id": "ef172f86",
   "metadata": {},
   "source": [
    "Triangle Quest"
   ]
  },
  {
   "cell_type": "code",
   "execution_count": 8,
   "id": "73507163",
   "metadata": {},
   "outputs": [
    {
     "name": "stdout",
     "output_type": "stream",
     "text": [
      "5\n",
      "1\n",
      "22\n",
      "333\n",
      "4444\n"
     ]
    }
   ],
   "source": [
    "for i in range(1,int(input())):\n",
    "    print(((10**i)//9)*i)\n"
   ]
  },
  {
   "cell_type": "code",
   "execution_count": null,
   "id": "d4b9de64",
   "metadata": {},
   "outputs": [],
   "source": []
  }
 ],
 "metadata": {
  "kernelspec": {
   "display_name": "Python 3 (ipykernel)",
   "language": "python",
   "name": "python3"
  },
  "language_info": {
   "codemirror_mode": {
    "name": "ipython",
    "version": 3
   },
   "file_extension": ".py",
   "mimetype": "text/x-python",
   "name": "python",
   "nbconvert_exporter": "python",
   "pygments_lexer": "ipython3",
   "version": "3.9.12"
  }
 },
 "nbformat": 4,
 "nbformat_minor": 5
}
