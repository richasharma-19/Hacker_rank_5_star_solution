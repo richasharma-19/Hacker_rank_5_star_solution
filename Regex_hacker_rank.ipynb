{
 "cells": [
  {
   "cell_type": "markdown",
   "id": "cfd4ee83",
   "metadata": {},
   "source": [
    "Q1. You are given a string N .\n",
    "Your task is to verify that N is a floating point number.\n",
    "In this task, a valid float number must satisfy all of the following requirements:"
   ]
  },
  {
   "cell_type": "code",
   "execution_count": 14,
   "id": "3e861295",
   "metadata": {},
   "outputs": [
    {
     "name": "stdout",
     "output_type": "stream",
     "text": [
      "4.000\n",
      "True\n"
     ]
    }
   ],
   "source": [
    "import re\n",
    "N=str(input())\n",
    "pattern=(r'^[-+]?[0-9]*\\.[0-9]+$')\n",
    "number=re.match(pattern,N)\n",
    "print(bool(number))"
   ]
  },
  {
   "cell_type": "markdown",
   "id": "bd427581",
   "metadata": {},
   "source": [
    "Q2.You are given a string  consisting only of digits 0-9, commas ,, and dots .\n",
    "Your task is to complete the regex_pattern defined below, which will be used to re.split() all of the , and . symbols in .\n",
    "It’s guaranteed that every comma and every dot in  is preceeded and followed by a digit."
   ]
  },
  {
   "cell_type": "code",
   "execution_count": 3,
   "id": "8b1e814e",
   "metadata": {},
   "outputs": [
    {
     "name": "stdout",
     "output_type": "stream",
     "text": [
      "100,000,000.000\n",
      "100\n",
      "000\n",
      "000\n",
      "000\n"
     ]
    }
   ],
   "source": [
    "regex_pattern = r\"(?<=\\d)[,.](?=\\d)\"\t# Do not delete 'r'.\n",
    "\n",
    "\n",
    "import re\n",
    "print(\"\\n\".join(re.split(regex_pattern, input())))"
   ]
  },
  {
   "cell_type": "markdown",
   "id": "0baccd20",
   "metadata": {},
   "source": [
    "Q3.You are given a string S.\n",
    "Your task is to find the first occurrence of an alphanumeric character in S (read from left to right) that has consecutive repetitions."
   ]
  },
  {
   "cell_type": "code",
   "execution_count": 5,
   "id": "ada0538f",
   "metadata": {},
   "outputs": [
    {
     "name": "stdout",
     "output_type": "stream",
     "text": [
      "..12345678910111213141516171820212223\n"
     ]
    },
    {
     "data": {
      "text/plain": [
       "'1'"
      ]
     },
     "execution_count": 5,
     "metadata": {},
     "output_type": "execute_result"
    }
   ],
   "source": [
    "import re\n",
    "\n",
    "def first_consecutive_repetition(a):\n",
    "    for i in range(len(a)-1):\n",
    "        if re.match(r'\\w', a[i]) and a[i] == a[i+1]:\n",
    "            return a[i]\n",
    "    return None\n",
    "a=input()\n",
    "first_consecutive_repetition(a)"
   ]
  },
  {
   "cell_type": "markdown",
   "id": "47151426",
   "metadata": {},
   "source": [
    "Q4:You are given a string S . It consists of alphanumeric characters, spaces and symbols(+,-).\n",
    "Your task is to find all the substrings of  S that contains 2 or more vowels.\n",
    "Also, these substrings must lie in between  2 consonants and should contain vowels only"
   ]
  },
  {
   "cell_type": "code",
   "execution_count": 10,
   "id": "8130f140",
   "metadata": {},
   "outputs": [
    {
     "name": "stdout",
     "output_type": "stream",
     "text": [
      "abchwjhdiowejdpowlkmkJBFDRTUYIOLMKNB\n",
      "['io', 'IO']\n"
     ]
    }
   ],
   "source": [
    "def vowel(char):\n",
    "    vowels = set(['a', 'e', 'i', 'o', 'u', 'A', 'E', 'I', 'O', 'U'])\n",
    "    return char in vowels\n",
    "\n",
    "def consonant(char):\n",
    "    return not vowel(char) and char.isalpha()\n",
    "\n",
    "def substrings(S):\n",
    "    result = []\n",
    "    n = len(S)\n",
    "    for i in range(n-2):\n",
    "        if consonant(S[i]) and vowel(S[i+1]) and vowel(S[i+2]):\n",
    "            j = i + 3\n",
    "            while j < n and vowel(S[j]):\n",
    "                j += 1\n",
    "            if j < n and consonant(S[j]):\n",
    "                result.append(S[i+1:j])\n",
    "    return result\n",
    "S=str(input())\n",
    "print(substrings(S))"
   ]
  },
  {
   "cell_type": "markdown",
   "id": "72bab302",
   "metadata": {},
   "source": [
    "Q5: You are given a string S .\n",
    "Your task is to find the indices of the start and end of string K in S ."
   ]
  },
  {
   "cell_type": "code",
   "execution_count": 16,
   "id": "28182ccd",
   "metadata": {},
   "outputs": [
    {
     "name": "stdout",
     "output_type": "stream",
     "text": [
      "aaa\n",
      "aa\n",
      "(0, 1)\n",
      "(1, 2)\n"
     ]
    }
   ],
   "source": [
    "import re\n",
    "s=input()\n",
    "k=input()\n",
    "pattern = re.compile(k)\n",
    "x=pattern.search(s)\n",
    "\n",
    "if not x:\n",
    "        print((-1,-1))  \n",
    "while x:\n",
    "    print((x.start(),x.end()-1))\n",
    "    x=pattern.search(s,x.start()+1)\n"
   ]
  },
  {
   "cell_type": "markdown",
   "id": "24bcff10",
   "metadata": {},
   "source": [
    "Q6. You are given a text of N lines. The text contains && and || symbols.\n",
    "Your task is to modify those symbols to the following:"
   ]
  },
  {
   "cell_type": "code",
   "execution_count": 10,
   "id": "52bed2b4",
   "metadata": {},
   "outputs": [
    {
     "name": "stdout",
     "output_type": "stream",
     "text": [
      "11 a = 1; b = input();  if a + b > 0 && a - b < 0:     start() elif a*b > 10 || a/b < 1:     stop() print set(list(a)) | set(list(b))  #Note do not change &&& or ||| or & or | #Only change those '&&' which have space on both sides. #Only change those '|| which have space on both sides.\n",
      "11 a = 1; b = input();  if a + b > 0 and a - b < 0:     start() elif a*b > 10 or a/b < 1:     stop() print set(list(a)) | set(list(b))  #Note do not change and& or or| or & or | #Only change those 'and' which have space on both sides. #Only change those 'or which have space on both sides.\n"
     ]
    }
   ],
   "source": [
    "import re\n",
    "text =input()\n",
    "text = re.sub(r'&&', 'and', text)\n",
    "X= re.sub(r'\\|\\|', 'or', text)\n",
    "\n",
    "print(X)\n"
   ]
  },
  {
   "cell_type": "markdown",
   "id": "085d2f50",
   "metadata": {},
   "source": [
    "Q7.You are given a string, and you have to validate whether it's a valid Roman numeral. If it is valid, print True. Otherwise, print False. Try to create a regular expression for a valid Roman numeral"
   ]
  },
  {
   "cell_type": "code",
   "execution_count": 12,
   "id": "2198afc0",
   "metadata": {},
   "outputs": [
    {
     "name": "stdout",
     "output_type": "stream",
     "text": [
      "CDXXI\n"
     ]
    },
    {
     "data": {
      "text/plain": [
       "True"
      ]
     },
     "execution_count": 12,
     "metadata": {},
     "output_type": "execute_result"
    }
   ],
   "source": [
    "import re\n",
    "\n",
    "def valid_roman_numeral(s):\n",
    "    pattern = \"^M{0,3}(CM|CD|D?C{0,3})(XC|XL|L?X{0,3})(IX|IV|V?I{0,3})$\"\n",
    "    return bool(re.match(pattern, s))\n",
    "\n",
    "s=str(input())\n",
    "valid_roman_numeral(s)"
   ]
  },
  {
   "cell_type": "markdown",
   "id": "ccc4f1bf",
   "metadata": {},
   "source": [
    "Q8. Validating Phone Nummber"
   ]
  },
  {
   "cell_type": "code",
   "execution_count": 22,
   "id": "9dd2ee08",
   "metadata": {},
   "outputs": [
    {
     "name": "stdout",
     "output_type": "stream",
     "text": [
      "9587456281 1252478965\n",
      "yes\n"
     ]
    }
   ],
   "source": [
    "import re\n",
    "numbers = str(input())\n",
    "pattern = re.compile(r'\\b^[9||7||8]{1}\\d{9}\\b')\n",
    "if (re.match(pattern,numbers)):\n",
    "    print('yes')\n",
    "else:\n",
    "    print('No')"
   ]
  },
  {
   "cell_type": "markdown",
   "id": "2a3defdf",
   "metadata": {},
   "source": [
    "Q9 .A valid email address meets the following criteria:\n",
    "\n",
    "It's composed of a username, domain name, and extension assembled in this format: username@domain.extension\n",
    "The username starts with an English alphabetical character, and any subsequent characters consist of one or more of the following: alphanumeric characters, -,., and _.\n",
    "The domain and extension contain only English alphabetical characters.\n",
    "The extension is , , or  characters in length.\n",
    "Given  pairs of names and email addresses as input, print each name and email address pair having a valid email address on a new line.\n",
    "\n",
    "Hint: Try using Email.utils() to complete this challenge. For example, this code:"
   ]
  },
  {
   "cell_type": "code",
   "execution_count": null,
   "id": "ed07dbcd",
   "metadata": {},
   "outputs": [
    {
     "name": "stdout",
     "output_type": "stream",
     "text": [
      "a\n"
     ]
    }
   ],
   "source": [
    "import re\n",
    "n = int(input())\n",
    "for i in range(n):\n",
    "    x, y = input().split(' ')\n",
    "    m = re.match(r'<[A-Za-z](\\w|-|\\.|_)+@[A-Za-z]+\\.[A-Za-z]{1,3}>', y)\n",
    "    if m:\n",
    "        print(x,y)"
   ]
  },
  {
   "cell_type": "markdown",
   "id": "760ca3a2",
   "metadata": {},
   "source": [
    "Q Validating UID"
   ]
  },
  {
   "cell_type": "code",
   "execution_count": 3,
   "id": "37bc524c",
   "metadata": {},
   "outputs": [
    {
     "name": "stdout",
     "output_type": "stream",
     "text": [
      "2\n",
      "B1CD102354\n",
      "Invalid\n",
      "B1CD102354\n",
      "Invalid\n"
     ]
    }
   ],
   "source": [
    "import re\n",
    "for i in range(int(input())):\n",
    "    a = ''.join(sorted(input()))\n",
    "    try:\n",
    "        assert re.search(r'[A-Z]{2}', a)\n",
    "        assert re.search(r'\\d\\d\\d', a)\n",
    "        assert not re.search(r'[^a-zA-Z0-9]', a)\n",
    "        assert not re.search(r'(.)\\1', a)\n",
    "        assert len(a) == 10\n",
    "    except:\n",
    "        print('Invalid')\n",
    "    else:\n",
    "        print('Valid')"
   ]
  },
  {
   "cell_type": "markdown",
   "id": "7d3a4712",
   "metadata": {},
   "source": [
    "Validating Credit Card Numbers"
   ]
  },
  {
   "cell_type": "code",
   "execution_count": null,
   "id": "3722e640",
   "metadata": {},
   "outputs": [
    {
     "name": "stdout",
     "output_type": "stream",
     "text": [
      "4253625879615786\n",
      "4253625879615786\n",
      "Valid\n",
      "42536258796157868\n",
      "Invalid\n"
     ]
    }
   ],
   "source": [
    "import re\n",
    "pattern = re.compile(r'^(?!.*(\\d)(-?\\1){3})[456]\\d{3}(?:-?\\d{4}){3}$')\n",
    "# using for loop to the input from user \n",
    "for i in range(int(input().strip())):\n",
    "    print('Valid' if pattern.search(input().strip()) else 'Invalid')"
   ]
  },
  {
   "cell_type": "markdown",
   "id": "e2b8eab5",
   "metadata": {},
   "source": [
    "Q Validating Postal Codes"
   ]
  },
  {
   "cell_type": "code",
   "execution_count": 1,
   "id": "638a75eb",
   "metadata": {},
   "outputs": [
    {
     "name": "stdout",
     "output_type": "stream",
     "text": [
      "110000\n",
      "False\n"
     ]
    }
   ],
   "source": [
    "r = r\"^([1-9][0-9]{5})$\"\n",
    "r1= r\"(?=(.)(.)(\\1))\"\n",
    "\n",
    "import re\n",
    "P = input()\n",
    "print (bool(re.match(r, P)) \n",
    "and len(re.findall(r1, P)) < 2)"
   ]
  },
  {
   "cell_type": "markdown",
   "id": "9b8fbee3",
   "metadata": {},
   "source": [
    "Q Matrix Script"
   ]
  },
  {
   "cell_type": "code",
   "execution_count": 3,
   "id": "4ba42ccc",
   "metadata": {},
   "outputs": [
    {
     "name": "stdout",
     "output_type": "stream",
     "text": [
      "7 3\n",
      "Tsi\n",
      "h%x\n",
      "i #\n",
      "sM \n",
      "$a \n",
      "#t%\n",
      "ir!\n",
      "This is Matrix#  %!\n"
     ]
    }
   ],
   "source": [
    "import math\n",
    "import os\n",
    "import random\n",
    "import re\n",
    "import sys\n",
    "\n",
    "first_multiple_input = input().rstrip().split()\n",
    "\n",
    "n = int(first_multiple_input[0])\n",
    "m = int(first_multiple_input[1])\n",
    "\n",
    "matrix = []\n",
    "\n",
    "for _ in range(n):\n",
    "    matrix_item = input()\n",
    "    matrix.append(matrix_item)\n",
    "\n",
    "# start   \n",
    "matrix = list(zip(*matrix))\n",
    "\n",
    "sample = str()\n",
    "\n",
    "for words in matrix:\n",
    "    for char in words:\n",
    "        sample += char\n",
    "       \n",
    "print(re.sub(r'(?<=\\w)([^\\w\\d]+)(?=\\w)', ' ', sample))"
   ]
  }
 ],
 "metadata": {
  "kernelspec": {
   "display_name": "Python 3 (ipykernel)",
   "language": "python",
   "name": "python3"
  },
  "language_info": {
   "codemirror_mode": {
    "name": "ipython",
    "version": 3
   },
   "file_extension": ".py",
   "mimetype": "text/x-python",
   "name": "python",
   "nbconvert_exporter": "python",
   "pygments_lexer": "ipython3",
   "version": "3.9.12"
  }
 },
 "nbformat": 4,
 "nbformat_minor": 5
}
